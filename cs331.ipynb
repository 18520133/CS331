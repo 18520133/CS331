{
  "nbformat": 4,
  "nbformat_minor": 0,
  "metadata": {
    "colab": {
      "name": "cs331.ipynb",
      "provenance": [],
      "collapsed_sections": []
    },
    "kernelspec": {
      "name": "python3",
      "display_name": "Python 3"
    },
    "language_info": {
      "name": "python"
    }
  },
  "cells": [
    {
      "cell_type": "code",
      "metadata": {
        "colab": {
          "base_uri": "https://localhost:8080/"
        },
        "id": "axfDE5iepesd",
        "outputId": "a58ee4cc-edd7-478d-8d00-088e527ea2ef"
      },
      "source": [
        "# mount gg drive\n",
        "from google.colab import drive\n",
        "drive.mount('/content/drive')"
      ],
      "execution_count": 5,
      "outputs": [
        {
          "output_type": "stream",
          "text": [
            "Mounted at /content/drive\n"
          ],
          "name": "stdout"
        }
      ]
    },
    {
      "cell_type": "markdown",
      "metadata": {
        "id": "bCbe5TrFde8E"
      },
      "source": [
        "#Import các thư viện"
      ]
    },
    {
      "cell_type": "code",
      "metadata": {
        "id": "ab4CQxnbKoGW"
      },
      "source": [
        "# import thư viện\n",
        "from keras.models import Sequential\n",
        "from keras.layers import Dense, Activation, Dropout, Flatten, Conv2D, MaxPooling2D\n",
        "from keras.layers.normalization import BatchNormalization\n",
        "from tensorflow.keras.preprocessing.image import load_img\n",
        "from tensorflow.keras.preprocessing.image import img_to_array\n",
        "\n",
        "from imutils import paths\n",
        "import os\n",
        "\n",
        "import pandas as pd\n",
        "import numpy as np"
      ],
      "execution_count": 14,
      "outputs": []
    },
    {
      "cell_type": "markdown",
      "metadata": {
        "id": "EIlu_ahodnWV"
      },
      "source": [
        "#Model Alexnet"
      ]
    },
    {
      "cell_type": "code",
      "metadata": {
        "id": "tpC9p-cFzJ-s"
      },
      "source": [
        "# định nghĩa Alexnet\n",
        "class Alexnet:\n",
        "  def __init__(self, cs = 1000,  bp = \"FC3\"):\n",
        "    self.classifer = cs\n",
        "    self.breakPoint = bp\n",
        "    self.model = None\n",
        "\n",
        "  # cài đặt model\n",
        "  def define_model(self):\n",
        "    model = Sequential()\n",
        "    model.add(Conv2D(filters=96, kernel_size=(11,11), strides=(4,4), activation='relu', input_shape=(227,227,3)))\n",
        "    model.add(BatchNormalization())\n",
        "    model.add(MaxPooling2D(pool_size=(3,3), strides=(2,2)))\n",
        "    model.add(Conv2D(filters=256, kernel_size=(5,5), strides=(1,1), activation='relu', padding=\"same\"))\n",
        "    model.add(BatchNormalization())\n",
        "    model.add(MaxPooling2D(pool_size=(3,3), strides=(2,2)))\n",
        "    model.add(Conv2D(filters=384, kernel_size=(3,3), strides=(1,1), activation='relu', padding=\"same\"))\n",
        "    model.add(BatchNormalization())\n",
        "    model.add(Conv2D(filters=384, kernel_size=(3,3), strides=(1,1), activation='relu', padding=\"same\"))\n",
        "    model.add(BatchNormalization())\n",
        "    model.add(Conv2D(filters=256, kernel_size=(3,3), strides=(1,1), activation='relu', padding=\"same\"))\n",
        "    model.add(BatchNormalization())\n",
        "    model.add(MaxPooling2D(pool_size=(3,3), strides=(2,2)))\n",
        "    model.add(Flatten())\n",
        "    model.add(Dense(4096,activation='relu'))\n",
        "\n",
        "    # rút trích features lớp FC1\n",
        "    if (self.breakPoint == \"FC1\"):\n",
        "      self.model = model\n",
        "      return\n",
        "\n",
        "    model.add(Dropout(0.5))\n",
        "    model.add(Dense(4096,activation='relu'))\n",
        "\n",
        "    # rút trích features lớp FC2\n",
        "    if (self.breakPoint == \"FC2\"):\n",
        "      self.model = model\n",
        "      return\n",
        "    \n",
        "    model.add(Dropout(0.5))\n",
        "    model.add(Dense(self.classifer,activation='softmax'))\n",
        "    self.model = model\n",
        "\n",
        "  # predict \n",
        "  def predict(self, data):\n",
        "    return self.model.predict(data)\n",
        "\n",
        "  # get summary of model\n",
        "  def summary(self):\n",
        "    print(self.model.summary())\n",
        "\n",
        "  # get model\n",
        "  def get_model(self):\n",
        "    return self.model\n",
        "\n",
        "  # get/set break point\n",
        "  def get_breakPoint(self):\n",
        "    return self.breakPoint\n",
        "  def set_breakPoint(self, bp):\n",
        "    self.breakPoint = bp\n",
        "\n",
        "  # get/set class\n",
        "  def get_class(self):\n",
        "    return self.classifer\n",
        "  def set_class(self, c):\n",
        "    self.classifer = c"
      ],
      "execution_count": 15,
      "outputs": []
    },
    {
      "cell_type": "markdown",
      "metadata": {
        "id": "Ln4T53aDe_1v"
      },
      "source": [
        "#Tiền xử lí dữ liệu"
      ]
    },
    {
      "cell_type": "code",
      "metadata": {
        "id": "RwIqyUJbv1kN"
      },
      "source": [
        "# get feature from model\n",
        "def getFeature(imagePath, model):\n",
        "  # preprocess image\n",
        "  image = load_img(imagePath,target_size=(227,227))\n",
        "  img_array = img_to_array(image)\n",
        "  img_array = np.expand_dims(img_array, axis=0)\n",
        "\n",
        "  # get feature \n",
        "  feature = model.predict(img_array)\n",
        "  feature = feature.reshape(-1)\n",
        "\n",
        "  return feature"
      ],
      "execution_count": 16,
      "outputs": []
    },
    {
      "cell_type": "code",
      "metadata": {
        "id": "1N9dnUZb4wO_"
      },
      "source": [
        "# feature extraction\n",
        "def featureExtraction(imageDir, model):\n",
        "  imagePaths = list(paths.list_images(imageDir))\n",
        "\n",
        "  features = []\n",
        "  labels = []\n",
        "\n",
        "  for imagePath in imagePaths:\n",
        "    label = imagePath.split(os.path.sep)[-2]\n",
        "    features.append(getFeature(imagePath,model))\n",
        "\n",
        "    if (label == \"sofa\"):\n",
        "      labels.append(0)\n",
        "    else:\n",
        "      labels.append(1)\n",
        "  \n",
        "  # create dataFrame\n",
        "  # dataset = pd.DataFrame(\n",
        "  # {\n",
        "  #   \"Featrues\": features,\n",
        "  #   \"labels\" : labels   \n",
        "  # })\n",
        "  return np.array(features),np.array(labels)"
      ],
      "execution_count": 20,
      "outputs": []
    },
    {
      "cell_type": "markdown",
      "metadata": {
        "id": "yZd7ArmUdtD6"
      },
      "source": [
        "#Lưu lại features và labels của từng lớp"
      ]
    },
    {
      "cell_type": "code",
      "metadata": {
        "id": "u6ohj0ZV0H9f",
        "colab": {
          "base_uri": "https://localhost:8080/"
        },
        "outputId": "6199ddfa-01cf-409e-8ea1-e2d40426b53b"
      },
      "source": [
        "# main function\n",
        "if __name__ ==  \"__main__\":\n",
        "  pathDir = '/content/drive/MyDrive/data_AdvancedCV'\n",
        "\n",
        "  # setting model\n",
        "  model = Alexnet(cs=2,bp=\"FC1\")\n",
        "  model.define_model()\n",
        "  model.summary()\n",
        "\n",
        "  # feature extraction\n",
        "  # FC1\n",
        "  features_1 , labels_1 = featureExtraction(pathDir, model)\n",
        "  np.savetxt(\"/content/drive/MyDrive/data_AdvancedCV/FC1_features.txt\",features_1)\n",
        "  np.savetxt(\"/content/drive/MyDrive/data_AdvancedCV/FC1_labels.txt\",labels_1)\n",
        "\n",
        "  # FC2\n",
        "  model.set_breakPoint(bp=\"FC2\")\n",
        "  model.define_model()\n",
        "  model.summary()\n",
        "  features_2, labels_2 = featureExtraction(pathDir, model)\n",
        "  np.savetxt(\"/content/drive/MyDrive/data_AdvancedCV/FC2_features.txt\",features_2)\n",
        "  np.savetxt(\"/content/drive/MyDrive/data_AdvancedCV/FC2_labels.txt\",labels_2)\n",
        "\n",
        "  # # show \n",
        "  # print(dt_feature)\n",
        "  # print(dataset.shape)\n",
        "\n",
        "  # print(dataset2)\n",
        "  # print(dataset.shape)"
      ],
      "execution_count": 21,
      "outputs": [
        {
          "output_type": "stream",
          "text": [
            "Model: \"sequential_1\"\n",
            "_________________________________________________________________\n",
            "Layer (type)                 Output Shape              Param #   \n",
            "=================================================================\n",
            "conv2d_5 (Conv2D)            (None, 55, 55, 96)        34944     \n",
            "_________________________________________________________________\n",
            "batch_normalization_5 (Batch (None, 55, 55, 96)        384       \n",
            "_________________________________________________________________\n",
            "max_pooling2d_3 (MaxPooling2 (None, 27, 27, 96)        0         \n",
            "_________________________________________________________________\n",
            "conv2d_6 (Conv2D)            (None, 27, 27, 256)       614656    \n",
            "_________________________________________________________________\n",
            "batch_normalization_6 (Batch (None, 27, 27, 256)       1024      \n",
            "_________________________________________________________________\n",
            "max_pooling2d_4 (MaxPooling2 (None, 13, 13, 256)       0         \n",
            "_________________________________________________________________\n",
            "conv2d_7 (Conv2D)            (None, 13, 13, 384)       885120    \n",
            "_________________________________________________________________\n",
            "batch_normalization_7 (Batch (None, 13, 13, 384)       1536      \n",
            "_________________________________________________________________\n",
            "conv2d_8 (Conv2D)            (None, 13, 13, 384)       1327488   \n",
            "_________________________________________________________________\n",
            "batch_normalization_8 (Batch (None, 13, 13, 384)       1536      \n",
            "_________________________________________________________________\n",
            "conv2d_9 (Conv2D)            (None, 13, 13, 256)       884992    \n",
            "_________________________________________________________________\n",
            "batch_normalization_9 (Batch (None, 13, 13, 256)       1024      \n",
            "_________________________________________________________________\n",
            "max_pooling2d_5 (MaxPooling2 (None, 6, 6, 256)         0         \n",
            "_________________________________________________________________\n",
            "flatten_1 (Flatten)          (None, 9216)              0         \n",
            "_________________________________________________________________\n",
            "dense_1 (Dense)              (None, 4096)              37752832  \n",
            "=================================================================\n",
            "Total params: 41,505,536\n",
            "Trainable params: 41,502,784\n",
            "Non-trainable params: 2,752\n",
            "_________________________________________________________________\n",
            "None\n",
            "Model: \"sequential_2\"\n",
            "_________________________________________________________________\n",
            "Layer (type)                 Output Shape              Param #   \n",
            "=================================================================\n",
            "conv2d_10 (Conv2D)           (None, 55, 55, 96)        34944     \n",
            "_________________________________________________________________\n",
            "batch_normalization_10 (Batc (None, 55, 55, 96)        384       \n",
            "_________________________________________________________________\n",
            "max_pooling2d_6 (MaxPooling2 (None, 27, 27, 96)        0         \n",
            "_________________________________________________________________\n",
            "conv2d_11 (Conv2D)           (None, 27, 27, 256)       614656    \n",
            "_________________________________________________________________\n",
            "batch_normalization_11 (Batc (None, 27, 27, 256)       1024      \n",
            "_________________________________________________________________\n",
            "max_pooling2d_7 (MaxPooling2 (None, 13, 13, 256)       0         \n",
            "_________________________________________________________________\n",
            "conv2d_12 (Conv2D)           (None, 13, 13, 384)       885120    \n",
            "_________________________________________________________________\n",
            "batch_normalization_12 (Batc (None, 13, 13, 384)       1536      \n",
            "_________________________________________________________________\n",
            "conv2d_13 (Conv2D)           (None, 13, 13, 384)       1327488   \n",
            "_________________________________________________________________\n",
            "batch_normalization_13 (Batc (None, 13, 13, 384)       1536      \n",
            "_________________________________________________________________\n",
            "conv2d_14 (Conv2D)           (None, 13, 13, 256)       884992    \n",
            "_________________________________________________________________\n",
            "batch_normalization_14 (Batc (None, 13, 13, 256)       1024      \n",
            "_________________________________________________________________\n",
            "max_pooling2d_8 (MaxPooling2 (None, 6, 6, 256)         0         \n",
            "_________________________________________________________________\n",
            "flatten_2 (Flatten)          (None, 9216)              0         \n",
            "_________________________________________________________________\n",
            "dense_2 (Dense)              (None, 4096)              37752832  \n",
            "_________________________________________________________________\n",
            "dropout (Dropout)            (None, 4096)              0         \n",
            "_________________________________________________________________\n",
            "dense_3 (Dense)              (None, 4096)              16781312  \n",
            "=================================================================\n",
            "Total params: 58,286,848\n",
            "Trainable params: 58,284,096\n",
            "Non-trainable params: 2,752\n",
            "_________________________________________________________________\n",
            "None\n"
          ],
          "name": "stdout"
        }
      ]
    },
    {
      "cell_type": "markdown",
      "metadata": {
        "id": "DF5VN0EQeFKH"
      },
      "source": [
        "#Import các thư viện cần thiết để trainning"
      ]
    },
    {
      "cell_type": "code",
      "metadata": {
        "id": "O4cK7XfvbgtS"
      },
      "source": [
        "\n",
        "# thêm thư viện.\n",
        "import numpy as np\n",
        "from sklearn.pipeline import make_pipeline\n",
        "from sklearn.preprocessing import StandardScaler\n",
        "from sklearn.svm import SVC\n",
        "from sklearn import metrics\n",
        "from sklearn.metrics import classification_report\n",
        "import matplotlib.pyplot as plt\n",
        "from sklearn.model_selection import train_test_split"
      ],
      "execution_count": 22,
      "outputs": []
    },
    {
      "cell_type": "code",
      "metadata": {
        "colab": {
          "base_uri": "https://localhost:8080/"
        },
        "id": "7tB_h9cTREDT",
        "outputId": "ad8722d3-adea-4b64-a484-db7d2ed19713"
      },
      "source": [
        "# đọc dữ liệu từ các file .txt thông qua thư viện numpy.\n",
        "feature_FC1 = np.loadtxt('/content/drive/MyDrive/data_AdvancedCV/FC1_features.txt')\n",
        "feature_FC2 = np.loadtxt('/content/drive/MyDrive/data_AdvancedCV/FC2_features.txt')\n",
        "\n",
        "\n",
        "labels_FC1 = np.loadtxt('/content/drive/MyDrive/data_AdvancedCV/FC1_labels.txt')\n",
        "labels_FC2 = np.loadtxt('/content/drive/MyDrive/data_AdvancedCV/FC1_labels.txt')\n",
        "\n",
        "print(feature_FC1)\n",
        "print(feature_FC2)"
      ],
      "execution_count": 23,
      "outputs": [
        {
          "output_type": "stream",
          "text": [
            "[[ 0.          0.85979384 10.3094101  ...  5.18695068  1.58713794\n",
            "   8.85227299]\n",
            " [ 0.          0.         13.12308884 ...  4.99835062  8.61166477\n",
            "   4.67123652]\n",
            " [ 0.          0.         11.2062788  ...  4.11244822  3.78367805\n",
            "   7.58429527]\n",
            " ...\n",
            " [ 0.          1.0334717  14.47525215 ...  6.97779369  6.38098001\n",
            "   5.52917194]\n",
            " [ 0.          0.          8.52771378 ...  5.32062101  2.73540807\n",
            "   4.4944849 ]\n",
            " [ 0.25701365  0.40238145 10.80965996 ...  6.07190418  8.31420517\n",
            "   7.27575064]]\n",
            "[[ 1.70301402  5.02227736  5.63460302 ...  0.          0.\n",
            "   1.29868293]\n",
            " [ 0.          6.5121088   4.64696264 ...  0.          0.\n",
            "   0.26899561]\n",
            " [ 1.66714311 10.43301487  4.18591881 ...  0.          0.\n",
            "   0.34587869]\n",
            " ...\n",
            " [ 1.18561697  3.92195392  4.93034983 ...  0.          0.\n",
            "   3.67545295]\n",
            " [ 0.6170637   7.71110249  5.98326445 ...  0.          0.\n",
            "   1.16851616]\n",
            " [ 0.          4.6191287   5.43300056 ...  0.          0.\n",
            "   0.94451541]]\n"
          ],
          "name": "stdout"
        }
      ]
    },
    {
      "cell_type": "markdown",
      "metadata": {
        "id": "c2gy8fKVeNxG"
      },
      "source": [
        "#Chia data thành 2 phần train và test"
      ]
    },
    {
      "cell_type": "code",
      "metadata": {
        "id": "NT7bY7ixS8f_"
      },
      "source": [
        "# tiến hành chia dữ liệu để thực hiện quá trình ra 2 phần train và test.\n",
        "feature_FC1_train, feature_FC1_test, labels_FC1_train, labels_FC1_test = train_test_split(feature_FC1, labels_FC1, test_size = 0.2, random_state = 1)\n",
        "feature_FC2_train, feature_FC2_test, labels_FC2_train, labels_FC2_test = train_test_split(feature_FC2, labels_FC2, test_size = 0.2, random_state = 1)"
      ],
      "execution_count": 25,
      "outputs": []
    },
    {
      "cell_type": "markdown",
      "metadata": {
        "id": "vxWm-Hl8eVit"
      },
      "source": [
        "#FC1"
      ]
    },
    {
      "cell_type": "code",
      "metadata": {
        "colab": {
          "base_uri": "https://localhost:8080/",
          "height": 521
        },
        "id": "7ZVKevz_T-7Y",
        "outputId": "fa635465-4898-4e94-b15f-80c85a719a1c"
      },
      "source": [
        "# tạo một bộ phân loại.\n",
        "clf_FC1 = make_pipeline(StandardScaler(), SVC(gamma='auto'))\n",
        "\n",
        "# tiến hành học từ tập dữ liệu train.\n",
        "clf_FC1.fit(feature_FC1_train, labels_FC1_train)\n",
        "\n",
        "# tiến hành dự đoán dựa trên tập test\n",
        "predicted_FC1 = clf_FC1.predict(feature_FC1_test)\n",
        "\n",
        "# hiển thị các chỉ số đánh giá chính.\n",
        "print(classification_report(predicted_FC1, labels_FC1_test))\n",
        "\n",
        "# hiển thị ma trận Confusion matrix\n",
        "conf_FC1 = metrics.plot_confusion_matrix(clf_FC1, feature_FC1_test, labels_FC1_test)\n",
        "conf_FC1.figure_.suptitle(\"Confusion Matrix\")\n",
        "print(f\"Confusion matrix:\\n{conf_FC1.confusion_matrix}\")\n",
        "plt.show()"
      ],
      "execution_count": 26,
      "outputs": [
        {
          "output_type": "stream",
          "text": [
            "              precision    recall  f1-score   support\n",
            "\n",
            "         0.0       0.71      0.75      0.73        16\n",
            "         1.0       0.83      0.79      0.81        24\n",
            "\n",
            "    accuracy                           0.78        40\n",
            "   macro avg       0.77      0.77      0.77        40\n",
            "weighted avg       0.78      0.78      0.78        40\n",
            "\n",
            "Confusion matrix:\n",
            "[[12  5]\n",
            " [ 4 19]]\n"
          ],
          "name": "stdout"
        },
        {
          "output_type": "display_data",
          "data": {
            "image/png": "[encoded data removed]",
            "text/plain": [
              "<Figure size 432x288 with 2 Axes>"
            ]
          },
          "metadata": {
            "tags": [],
            "needs_background": "light"
          }
        }
      ]
    },
    {
      "cell_type": "markdown",
      "metadata": {
        "id": "9Z67--aYeXvd"
      },
      "source": [
        "#FC2"
      ]
    },
    {
      "cell_type": "code",
      "metadata": {
        "colab": {
          "base_uri": "https://localhost:8080/",
          "height": 521
        },
        "id": "GQW0mfB0TBi_",
        "outputId": "1f5df042-362b-44c0-c21d-601cfe79e41f"
      },
      "source": [
        "# tạo một bộ phân loại.\n",
        "clf_FC2 = make_pipeline(StandardScaler(), SVC(gamma='auto'))\n",
        "\n",
        "# tiến hành học từ tập dữ liệu train.\n",
        "clf_FC2.fit(feature_FC2_train, labels_FC2_train)\n",
        "\n",
        "# tiến hành dự đoán dựa trên tập test\n",
        "predicted_FC2 = clf_FC2.predict(feature_FC2_test)\n",
        "\n",
        "# hiển thị các chỉ số đánh giá chính.\n",
        "print(classification_report(predicted_FC2, labels_FC2_test))\n",
        "\n",
        "# hiển thị ma trận Confusion matrix\n",
        "conf_FC2 = metrics.plot_confusion_matrix(clf_FC2, feature_FC2_test, labels_FC2_test)\n",
        "conf_FC2.figure_.suptitle(\"Confusion Matrix\")\n",
        "print(f\"Confusion matrix:\\n{conf_FC2.confusion_matrix}\")\n",
        "plt.show()"
      ],
      "execution_count": 27,
      "outputs": [
        {
          "output_type": "stream",
          "text": [
            "              precision    recall  f1-score   support\n",
            "\n",
            "         0.0       0.65      0.69      0.67        16\n",
            "         1.0       0.78      0.75      0.77        24\n",
            "\n",
            "    accuracy                           0.73        40\n",
            "   macro avg       0.71      0.72      0.72        40\n",
            "weighted avg       0.73      0.72      0.73        40\n",
            "\n",
            "Confusion matrix:\n",
            "[[11  6]\n",
            " [ 5 18]]\n"
          ],
          "name": "stdout"
        },
        {
          "output_type": "display_data",
          "data": {
            "image/png": "[encoded data removed]",
            "text/plain": [
              "<Figure size 432x288 with 2 Axes>"
            ]
          },
          "metadata": {
            "tags": [],
            "needs_background": "light"
          }
        }
      ]
    },
    {
      "cell_type": "code",
      "metadata": {
        "id": "Oy-tYZPBT8mP"
      },
      "source": [
        ""
      ],
      "execution_count": null,
      "outputs": []
    }
  ]
}