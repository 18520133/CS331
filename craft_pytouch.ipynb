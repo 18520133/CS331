{
  "nbformat": 4,
  "nbformat_minor": 0,
  "metadata": {
    "colab": {
      "name": "craft_pytouch.ipynb",
      "provenance": [],
      "include_colab_link": true
    },
    "kernelspec": {
      "name": "python3",
      "display_name": "Python 3"
    },
    "language_info": {
      "name": "python"
    }
  },
  "cells": [
    {
      "cell_type": "markdown",
      "metadata": {
        "id": "view-in-github",
        "colab_type": "text"
      },
      "source": [
        "<a href=\"https://colab.research.google.com/github/18520133/CS331.L21/blob/main/craft_pytouch.ipynb\" target=\"_parent\"><img src=\"https://colab.research.google.com/assets/colab-badge.svg\" alt=\"Open In Colab\"/></a>"
      ]
    },
    {
      "cell_type": "code",
      "metadata": {
        "colab": {
          "base_uri": "https://localhost:8080/"
        },
        "id": "I1nWURGnwC1c",
        "outputId": "5f486556-cd7b-457a-c500-39431d461fbc"
      },
      "source": [
        "from google.colab import drive\n",
        "drive.mount('/content/drive')"
      ],
      "execution_count": null,
      "outputs": [
        {
          "output_type": "stream",
          "text": [
            "Mounted at /content/drive\n"
          ],
          "name": "stdout"
        }
      ]
    },
    {
      "cell_type": "code",
      "metadata": {
        "colab": {
          "base_uri": "https://localhost:8080/"
        },
        "id": "cPLrB_Yhkz6O",
        "outputId": "a461e60b-cacf-4221-a4c7-7b1586842c80"
      },
      "source": [
        "!pip install craft-text-detector"
      ],
      "execution_count": null,
      "outputs": [
        {
          "output_type": "stream",
          "text": [
            "Collecting craft-text-detector\n",
            "  Downloading https://files.pythonhosted.org/packages/bc/39/752c76b1bc5800613d71b198ea395922bacfda3a6430ab6b682acc872bb3/craft_text_detector-0.3.5-py3-none-any.whl\n",
            "Requirement already satisfied: opencv-python>=3.4.8.29 in /usr/local/lib/python3.7/dist-packages (from craft-text-detector) (4.1.2.30)\n",
            "Collecting gdown>=3.10.1\n",
            "  Downloading https://files.pythonhosted.org/packages/52/b9/d426f164f35bb50d512a77d6a7c5eb70b2bea3459dc10f73f130ba732810/gdown-3.13.0.tar.gz\n",
            "  Installing build dependencies ... \u001b[?25l\u001b[?25hdone\n",
            "  Getting requirements to build wheel ... \u001b[?25l\u001b[?25hdone\n",
            "    Preparing wheel metadata ... \u001b[?25l\u001b[?25hdone\n",
            "Requirement already satisfied: torchvision>=0.2.1 in /usr/local/lib/python3.7/dist-packages (from craft-text-detector) (0.9.1+cu101)\n",
            "Requirement already satisfied: torch>=0.4.1 in /usr/local/lib/python3.7/dist-packages (from craft-text-detector) (1.8.1+cu101)\n",
            "Requirement already satisfied: scipy>=1.3.2 in /usr/local/lib/python3.7/dist-packages (from craft-text-detector) (1.4.1)\n",
            "Requirement already satisfied: numpy>=1.14.5 in /usr/local/lib/python3.7/dist-packages (from opencv-python>=3.4.8.29->craft-text-detector) (1.19.5)\n",
            "Requirement already satisfied: tqdm in /usr/local/lib/python3.7/dist-packages (from gdown>=3.10.1->craft-text-detector) (4.41.1)\n",
            "Requirement already satisfied: six in /usr/local/lib/python3.7/dist-packages (from gdown>=3.10.1->craft-text-detector) (1.15.0)\n",
            "Requirement already satisfied: filelock in /usr/local/lib/python3.7/dist-packages (from gdown>=3.10.1->craft-text-detector) (3.0.12)\n",
            "Requirement already satisfied: requests[socks]>=2.12.0 in /usr/local/lib/python3.7/dist-packages (from gdown>=3.10.1->craft-text-detector) (2.23.0)\n",
            "Requirement already satisfied: pillow>=4.1.1 in /usr/local/lib/python3.7/dist-packages (from torchvision>=0.2.1->craft-text-detector) (7.1.2)\n",
            "Requirement already satisfied: typing-extensions in /usr/local/lib/python3.7/dist-packages (from torch>=0.4.1->craft-text-detector) (3.7.4.3)\n",
            "Requirement already satisfied: chardet<4,>=3.0.2 in /usr/local/lib/python3.7/dist-packages (from requests[socks]>=2.12.0->gdown>=3.10.1->craft-text-detector) (3.0.4)\n",
            "Requirement already satisfied: certifi>=2017.4.17 in /usr/local/lib/python3.7/dist-packages (from requests[socks]>=2.12.0->gdown>=3.10.1->craft-text-detector) (2020.12.5)\n",
            "Requirement already satisfied: urllib3!=1.25.0,!=1.25.1,<1.26,>=1.21.1 in /usr/local/lib/python3.7/dist-packages (from requests[socks]>=2.12.0->gdown>=3.10.1->craft-text-detector) (1.24.3)\n",
            "Requirement already satisfied: idna<3,>=2.5 in /usr/local/lib/python3.7/dist-packages (from requests[socks]>=2.12.0->gdown>=3.10.1->craft-text-detector) (2.10)\n",
            "Requirement already satisfied: PySocks!=1.5.7,>=1.5.6; extra == \"socks\" in /usr/local/lib/python3.7/dist-packages (from requests[socks]>=2.12.0->gdown>=3.10.1->craft-text-detector) (1.7.1)\n",
            "Building wheels for collected packages: gdown\n",
            "  Building wheel for gdown (PEP 517) ... \u001b[?25l\u001b[?25hdone\n",
            "  Created wheel for gdown: filename=gdown-3.13.0-cp37-none-any.whl size=9046 sha256=f97760c32bea7f7153046e6ded84b70be28b014c1bbbe449fb84af210af81da3\n",
            "  Stored in directory: /root/.cache/pip/wheels/ba/fa/c5/12813d7496f34652c43a471e11a780e769889d06e34735c32e\n",
            "Successfully built gdown\n",
            "Installing collected packages: gdown, craft-text-detector\n",
            "  Found existing installation: gdown 3.6.4\n",
            "    Uninstalling gdown-3.6.4:\n",
            "      Successfully uninstalled gdown-3.6.4\n",
            "Successfully installed craft-text-detector-0.3.5 gdown-3.13.0\n"
          ],
          "name": "stdout"
        }
      ]
    },
    {
      "cell_type": "code",
      "metadata": {
        "id": "cJDUa0e6sYly"
      },
      "source": [
        "from google.colab.patches import cv2_imshow\n",
        "import cv2\n",
        "import os\n",
        "# import craft functions\n",
        "from craft_text_detector import (\n",
        "    read_image,\n",
        "    load_craftnet_model,\n",
        "    load_refinenet_model,\n",
        "    get_prediction,\n",
        "    export_detected_regions,\n",
        "    export_extra_results,\n",
        "    empty_cuda_cache\n",
        ")"
      ],
      "execution_count": null,
      "outputs": []
    },
    {
      "cell_type": "code",
      "metadata": {
        "id": "ODI5aIBxpTRH"
      },
      "source": [
        "def text_detection(image_path,output_dir):\n",
        "  # read image\n",
        "  image = read_image(image_path)\n",
        "\n",
        "  # load models\n",
        "  refine_net = load_refinenet_model()\n",
        "  craft_net = load_craftnet_model()\n",
        "\n",
        "  # perform prediction\n",
        "  prediction_result = get_prediction(\n",
        "      image=image,\n",
        "      craft_net=craft_net,\n",
        "      refine_net=refine_net,\n",
        "      text_threshold=0.7,\n",
        "      link_threshold=0.4,\n",
        "      low_text=0.4,\n",
        "      long_size=1280\n",
        "  )\n",
        "\n",
        "  # export detected text regions\n",
        "  exported_file_paths = export_detected_regions(\n",
        "      image=image,\n",
        "      regions=prediction_result[\"boxes\"],\n",
        "      output_dir=output_dir,\n",
        "      rectify=True\n",
        "  )\n",
        "\n",
        "  # export heatmap, detection points, box visualization\n",
        "  export_extra_results(\n",
        "      image=image,\n",
        "      regions=prediction_result[\"boxes\"],\n",
        "      heatmaps=prediction_result[\"heatmaps\"],\n",
        "      output_dir=output_dir\n",
        "  )"
      ],
      "execution_count": null,
      "outputs": []
    },
    {
      "cell_type": "markdown",
      "metadata": {
        "id": "AcbllKxhyk1a"
      },
      "source": [
        "Ảnh đầu ra sẽ nằm trong folder output \n",
        "\n",
        "*   thư mục crop là các text đã được cắt \n",
        "*   image_text_detection.png là ảnh đã draw bboxes\n",
        "\n"
      ]
    },
    {
      "cell_type": "code",
      "metadata": {
        "colab": {
          "base_uri": "https://localhost:8080/"
        },
        "id": "5wesJ36Dvhr9",
        "outputId": "3b01ed2b-85f8-4078-ef77-4d258364acc6"
      },
      "source": [
        "# root folder\n",
        "root= \"/content/drive/MyDrive/data_AdvancedCV\"\n",
        "\n",
        "# folder chứa ảnh\n",
        "files = os.listdir( os.path.join(root, \"cnmd\"))\n",
        "\n",
        "for idx,f in enumerate(files):\n",
        "  print(idx)\n",
        "  img_path = os.path.join(root,\"cnmd\",f)\n",
        "  img_name = f.split(\".\")[0]\n",
        "  out_path = os.path.join(root,\"outputs\",img_name)  # folder output\n",
        "  text_detection(img_path,out_path)\n",
        "  print(\"\\r\")"
      ],
      "execution_count": null,
      "outputs": [
        {
          "output_type": "stream",
          "text": [
            "0\n",
            "Craft text refiner weight will be downloaded to /root/.craft_text_detector/weights/craft_refiner_CTW1500.pth\n"
          ],
          "name": "stdout"
        },
        {
          "output_type": "stream",
          "text": [
            "Downloading...\n",
            "From: https://drive.google.com/uc?id=1xcE9qpJXp4ofINwXWVhhQIh9S8Z7cuGj\n",
            "To: /root/.craft_text_detector/weights/craft_refiner_CTW1500.pth\n",
            "100%|██████████| 1.85M/1.85M [00:00<00:00, 11.1MB/s]\n"
          ],
          "name": "stderr"
        },
        {
          "output_type": "stream",
          "text": [
            "Craft text detector weight will be downloaded to /root/.craft_text_detector/weights/craft_mlt_25k.pth\n"
          ],
          "name": "stdout"
        },
        {
          "output_type": "stream",
          "text": [
            "Downloading...\n",
            "From: https://drive.google.com/uc?id=1bupFXqT-VU6Jjeul13XP7yx2Sg5IHr4J\n",
            "To: /root/.craft_text_detector/weights/craft_mlt_25k.pth\n",
            "83.2MB [00:00, 84.3MB/s]\n",
            "/usr/local/lib/python3.7/dist-packages/craft_text_detector/craft_utils.py:403: VisibleDeprecationWarning: Creating an ndarray from ragged nested sequences (which is a list-or-tuple of lists-or-tuples-or ndarrays with different lengths or shapes) is deprecated. If you meant to do this, you must specify 'dtype=object' when creating the ndarray\n",
            "  polys = np.array(polys)\n",
            "/usr/local/lib/python3.7/dist-packages/craft_text_detector/predict.py:110: VisibleDeprecationWarning: Creating an ndarray from ragged nested sequences (which is a list-or-tuple of lists-or-tuples-or ndarrays with different lengths or shapes) is deprecated. If you meant to do this, you must specify 'dtype=object' when creating the ndarray\n",
            "  polys_as_ratio = np.array(polys_as_ratio)\n"
          ],
          "name": "stderr"
        },
        {
          "output_type": "stream",
          "text": [
            "\r\n",
            "1\n",
            "\n",
            "2\n",
            "\n",
            "3\n",
            "\n",
            "4\n",
            "\n",
            "5\n",
            "\n",
            "6\n",
            "\n",
            "7\n",
            "\n",
            "8\n",
            "\n",
            "9\n",
            "\n",
            "10\n",
            "\n",
            "11\n",
            "\n",
            "12\n",
            "\n",
            "13\n",
            "\n",
            "14\n",
            "\n",
            "15\n",
            "\n",
            "16\n",
            "\n",
            "17\n",
            "\n",
            "18\n",
            "\n",
            "19\n",
            "\n"
          ],
          "name": "stdout"
        }
      ]
    },
    {
      "cell_type": "code",
      "metadata": {
        "id": "QbCAXyaawl-X"
      },
      "source": [
        ""
      ],
      "execution_count": null,
      "outputs": []
    }
  ]
}